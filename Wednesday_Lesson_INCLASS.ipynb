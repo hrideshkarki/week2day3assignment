{
 "cells": [
  {
   "cell_type": "markdown",
   "metadata": {},
   "source": [
    "# Data Collections 2 (Dictionaries, Sets) and Importing Modules"
   ]
  },
  {
   "cell_type": "markdown",
   "metadata": {},
   "source": [
    "## Tasks Today:\n",
    "\n",
    "1) Dictionary <br>\n",
    " &nbsp;&nbsp;&nbsp;&nbsp; a) Declaring (key, value) <br>\n",
    " &nbsp;&nbsp;&nbsp;&nbsp; b) Accessing Values <br>\n",
    " &nbsp;&nbsp;&nbsp;&nbsp; ------ Exercise #1 - Print the eye color of each person in a double nested dict <br>\n",
    " &nbsp;&nbsp;&nbsp;&nbsp; c) Adding New Pairs <br>\n",
    " &nbsp;&nbsp;&nbsp;&nbsp; d) Modifying Values <br>\n",
    " &nbsp;&nbsp;&nbsp;&nbsp; e) Removing Key, Value Pairs <br>\n",
    " &nbsp;&nbsp;&nbsp;&nbsp; f) Looping a Dictionary <br>\n",
    " &nbsp;&nbsp;&nbsp;&nbsp; g) Looping Only Keys <br>\n",
    " &nbsp;&nbsp;&nbsp;&nbsp; h) Looping Only Values <br>\n",
    " &nbsp;&nbsp;&nbsp;&nbsp; ------ Exercise #2 - Create a Function that Prints All Key Value Pairs within a print .format()  <br>\n",
    " &nbsp;&nbsp;&nbsp;&nbsp; i) sorted() <br>\n",
    " &nbsp;&nbsp;&nbsp;&nbsp; j) Lists with Dictionaries <br>\n",
    " &nbsp;&nbsp;&nbsp;&nbsp; k) Dictionaries with Lists <br>\n",
    " &nbsp;&nbsp;&nbsp;&nbsp; l) Dictionaries with Dictionaries <br>\n",
    " &nbsp;&nbsp;&nbsp;&nbsp; ------ Exercise #3 - Write a Function that asks someone's name and address, and then stores that into a dictionary, which prints all names and addresses after they're done putting information in...  <br>\n",
    "2) Dictionaries vs. Lists (over time)<br>\n",
    "3) Set <br>\n",
    " &nbsp;&nbsp;&nbsp;&nbsp; a) Declaring <br>\n",
    " &nbsp;&nbsp;&nbsp;&nbsp; b) .add() <br>\n",
    " &nbsp;&nbsp;&nbsp;&nbsp; c) .remove() <br>\n",
    " &nbsp;&nbsp;&nbsp;&nbsp; d) .union() <br>\n",
    " &nbsp;&nbsp;&nbsp;&nbsp; e) .intersection() <br>\n",
    " &nbsp;&nbsp;&nbsp;&nbsp; f) .difference() <br>\n",
    " &nbsp;&nbsp;&nbsp;&nbsp; g) Frozen Set <br>\n",
    "4) Modules <br>\n",
    " &nbsp;&nbsp;&nbsp;&nbsp; a) Importing Entire Modules <br>\n",
    " &nbsp;&nbsp;&nbsp;&nbsp; b) Importing Methods Only <br>\n",
    " &nbsp;&nbsp;&nbsp;&nbsp; c) Using the 'as' Keyword <br>\n",
    " &nbsp;&nbsp;&nbsp;&nbsp; d) Creating a Module <br>\n",
    "5) Exercises <br>\n",
    " &nbsp;&nbsp;&nbsp;&nbsp; a) Build a Shopping Cart <br>\n",
    " &nbsp;&nbsp;&nbsp;&nbsp; b) Create Your Own Module <br>"
   ]
  },
  {
   "cell_type": "markdown",
   "metadata": {},
   "source": [
    "## Dictionary <br>\n",
    "<p>A collection of data with 'key:value' pairs. Dictionaries are ordered as of Python 3.6</p>"
   ]
  },
  {
   "cell_type": "markdown",
   "metadata": {},
   "source": [
    "##### Declaring (key, value)"
   ]
  },
  {
   "cell_type": "code",
   "execution_count": 5,
   "metadata": {},
   "outputs": [
    {
     "name": "stdout",
     "output_type": "stream",
     "text": [
      "{}\n",
      "<class 'dict'>\n",
      "{}\n",
      "<class 'dict'>\n",
      "{'name': 'Hridesh', 'age': '25', 'fav_sports': ['soccor', 'basketball']}\n",
      "<class 'dict'>\n",
      "{'name': 'Hridesh', 'age': '25', 'fav_sports': ['soccor', 'basketball']}\n"
     ]
    }
   ],
   "source": [
    "d1 = {}\n",
    "print(d1)\n",
    "print(type(d1))\n",
    "\n",
    "d2 = {}\n",
    "print(d2)\n",
    "print(type(d2))\n",
    "\n",
    "d3 = {\n",
    "    'name':'Hridesh',\n",
    "    'age':'25',\n",
    "    'fav_sports':['soccor', 'basketball']\n",
    "}\n",
    "print(d3)\n",
    "print(type(d3))\n",
    "print(d3)\n"
   ]
  },
  {
   "cell_type": "markdown",
   "metadata": {},
   "source": [
    "##### Accessing Values"
   ]
  },
  {
   "cell_type": "code",
   "execution_count": 7,
   "metadata": {},
   "outputs": [
    {
     "name": "stdout",
     "output_type": "stream",
     "text": [
      "25\n"
     ]
    },
    {
     "data": {
      "text/plain": [
       "['soccor', 'basketball']"
      ]
     },
     "execution_count": 7,
     "metadata": {},
     "output_type": "execute_result"
    }
   ],
   "source": [
    "#backets notation\n",
    "\n",
    "name = d3['name']\n",
    "\n",
    "print(d3['age'])\n",
    "\n",
    "d3['fav_sports']"
   ]
  },
  {
   "cell_type": "markdown",
   "metadata": {},
   "source": [
    "## In-Class Exercise #1 - Print a formatted statement from the dictionary below <br>\n",
    "<p>The output should be '2018 Chevrolet Silverado'</p>"
   ]
  },
  {
   "cell_type": "code",
   "execution_count": 10,
   "metadata": {},
   "outputs": [
    {
     "name": "stdout",
     "output_type": "stream",
     "text": [
      "2018 Chevrolet Silverado\n",
      "2018 Chevrolet Silverado\n"
     ]
    }
   ],
   "source": [
    "# use the dict below\n",
    "truck = {\n",
    "    'year': 2018,\n",
    "    'make': 'Chevrolet',\n",
    "    'model': 'Silverado'\n",
    "}\n",
    "\n",
    "output = f\"{truck['year']} {truck['make']} {truck['model']}\"\n",
    "output2 = f\"{truck.get('year')} {truck.get('make')} {truck.get('model')}\"\n",
    "print(output)\n",
    "print(output2)\n",
    "\n"
   ]
  },
  {
   "cell_type": "markdown",
   "metadata": {},
   "source": [
    "##### Adding New Pairs"
   ]
  },
  {
   "cell_type": "code",
   "execution_count": null,
   "metadata": {},
   "outputs": [],
   "source": []
  },
  {
   "cell_type": "markdown",
   "metadata": {},
   "source": [
    "##### Modifying Values"
   ]
  },
  {
   "cell_type": "code",
   "execution_count": null,
   "metadata": {},
   "outputs": [],
   "source": []
  },
  {
   "cell_type": "markdown",
   "metadata": {},
   "source": [
    "##### Removing Key, Value Pairs"
   ]
  },
  {
   "cell_type": "code",
   "execution_count": null,
   "metadata": {},
   "outputs": [],
   "source": []
  },
  {
   "cell_type": "markdown",
   "metadata": {},
   "source": [
    "##### Looping a Dictionary"
   ]
  },
  {
   "cell_type": "code",
   "execution_count": null,
   "metadata": {},
   "outputs": [],
   "source": [
    "# .items()\n",
    "# a, b, c = 1, 2, 3\n",
    "# print(a)\n",
    "# print(b)\n",
    "# print(c)\n",
    "\n"
   ]
  },
  {
   "cell_type": "markdown",
   "metadata": {},
   "source": [
    "##### Looping Only Keys"
   ]
  },
  {
   "cell_type": "code",
   "execution_count": null,
   "metadata": {},
   "outputs": [],
   "source": [
    "# .keys()\n",
    "\n",
    "for key in d3.keys():\n",
    "    print(key)\n"
   ]
  },
  {
   "cell_type": "markdown",
   "metadata": {},
   "source": [
    "##### Looping Only Values"
   ]
  },
  {
   "cell_type": "code",
   "execution_count": null,
   "metadata": {},
   "outputs": [],
   "source": [
    "# .values()\n",
    "\n"
   ]
  },
  {
   "cell_type": "markdown",
   "metadata": {},
   "source": [
    "## In-Class Exercise #2 - Create a Function that Prints All Key Value Pairs within a print .format() <br>\n",
    "<p><b>Output should be:</b><br>\n",
    "Max has blue eyes<br>\n",
    "Lilly has brown eyes<br>\n",
    "Barney has blue eyes<br>\n",
    "etc.\n",
    "</p>"
   ]
  },
  {
   "cell_type": "code",
   "execution_count": 27,
   "metadata": {},
   "outputs": [
    {
     "name": "stdout",
     "output_type": "stream",
     "text": [
      "Max has blue eyes\n",
      "Lilly has brown eyes\n",
      "Barney has blue eyes\n",
      "Larney has brown eyes\n",
      "Ted has purple eyes\n"
     ]
    }
   ],
   "source": [
    "# use the dict below\n",
    "\n",
    "people = {\n",
    "    'Max': 'blue',\n",
    "    'Lilly': 'brown',\n",
    "    'Barney': 'blue',\n",
    "    'Larney': 'brown',\n",
    "    'Ted': 'purple'\n",
    "}\n",
    "\n",
    "for i in people:\n",
    "    name=i\n",
    "    color=people[i]\n",
    "    \n",
    "    print(name+' has '+ color + ' eyes')"
   ]
  },
  {
   "cell_type": "markdown",
   "metadata": {},
   "source": [
    "##### sorted()"
   ]
  },
  {
   "cell_type": "code",
   "execution_count": 23,
   "metadata": {},
   "outputs": [
    {
     "name": "stdout",
     "output_type": "stream",
     "text": [
      "[('Barney', 'blue'), ('Larney', 'brown'), ('Lilly', 'brown'), ('Max', 'blue'), ('Ted', 'purple')]\n",
      "['Barney', 'Larney', 'Lilly', 'Max', 'Ted']\n",
      "['blue', 'blue', 'brown', 'brown', 'purple']\n"
     ]
    }
   ],
   "source": [
    "# sorts variables in order\n",
    "# sorted(dict.values()) or dict.keys() or dict.items()\n",
    "\n",
    "print(sorted(people.items()))\n",
    "print(sorted(people.keys()))\n",
    "print(sorted(people.values()))"
   ]
  },
  {
   "cell_type": "markdown",
   "metadata": {},
   "source": [
    "##### List with Dictionaries"
   ]
  },
  {
   "cell_type": "code",
   "execution_count": 26,
   "metadata": {},
   "outputs": [
    {
     "name": "stdout",
     "output_type": "stream",
     "text": [
      "{'Max': 'blue', 'Lilly': 'brown', 'Barney': 'blue', 'Larney': 'brown', 'Ted': 'purple'}\n"
     ]
    }
   ],
   "source": [
    "print(people)"
   ]
  },
  {
   "cell_type": "markdown",
   "metadata": {},
   "source": [
    "##### Dictionaries with Lists"
   ]
  },
  {
   "cell_type": "code",
   "execution_count": null,
   "metadata": {},
   "outputs": [],
   "source": [
    "# be careful when using numbers as keys in dictionaries, don't confuse them with indexes\n"
   ]
  },
  {
   "cell_type": "markdown",
   "metadata": {},
   "source": [
    "##### Dictionaries with Dictionaries"
   ]
  },
  {
   "cell_type": "code",
   "execution_count": null,
   "metadata": {},
   "outputs": [],
   "source": [
    "# to get values, must traverse through keys\n",
    "\n",
    "\n"
   ]
  },
  {
   "cell_type": "markdown",
   "metadata": {},
   "source": [
    "## Dictionaries vs. Lists (over time) Example of RUNTIME\n",
    "### When inputting values in a Dictionary vs List"
   ]
  },
  {
   "cell_type": "code",
   "execution_count": 29,
   "metadata": {},
   "outputs": [],
   "source": [
    "import time\n",
    "\n",
    "\n",
    "# generate fake dictionary\n",
    "d = {}\n",
    "\n",
    "for i in range(10000000):\n",
    "    d[i] = 'value'\n",
    "    \n",
    "\n",
    "# generate fake list\n",
    "big_list = [x for x in range(10000000)]"
   ]
  },
  {
   "cell_type": "code",
   "execution_count": 30,
   "metadata": {},
   "outputs": [
    {
     "name": "stdout",
     "output_type": "stream",
     "text": [
      "value\n",
      "Elapsed time for dictionary: 0.0063478946685791016\n",
      "9999999\n",
      "Elapsed time for list: 0.5477218627929688\n"
     ]
    }
   ],
   "source": [
    "# tracking time for dictionary\n",
    "start_time = time.time()\n",
    "\n",
    "print(d[9999999])\n",
    "\n",
    "end_time = time.time() - start_time\n",
    "\n",
    "print('Elapsed time for dictionary: {}'.format(end_time))\n",
    "\n",
    "\n",
    "# tracking time for list\n",
    "start_time = time.time()\n",
    "\n",
    "for i in range(len(big_list)):\n",
    "    if i == 9999999:\n",
    "        print(i)\n",
    "\n",
    "end_time = time.time() - start_time\n",
    "\n",
    "print('Elapsed time for list: {}'.format(end_time))"
   ]
  },
  {
   "cell_type": "markdown",
   "metadata": {},
   "source": [
    "## Exercise #3 - Write a Function that asks someone's name and address, and then stores that into a dictionary, and continues to do so until they choose to 'quit'. Once they quit, the program should print all names and addresses. <br>\n",
    "<p>\n",
    "<b>Proper steps:</b><br>\n",
    "step 1: write a function that takes in information and stores it in a dictionary<br>\n",
    "step 2: define an empty dictionary to work with<br>\n",
    "step 3: create our loop, which asks the user for information until they quit<br>\n",
    "step 4: ask for the information, and store it into variables<br>\n",
    "step 5: check if the user types quit<br>\n",
    "step 5a: print out all information<br>\n",
    "step 5b: break out of the loop<br>\n",
    "step 6: if they didn't quit, add the information to the dictionary<br>\n",
    "step 7: invoke the function by calling it\n",
    "</p>"
   ]
  },
  {
   "cell_type": "code",
   "execution_count": 31,
   "metadata": {},
   "outputs": [
    {
     "name": "stdout",
     "output_type": "stream",
     "text": [
      "Please enter a name:  sf\n",
      "Please enter an address:  fds\n",
      "Please enter a name:  sdg\n",
      "Please enter an address:  sdg\n",
      "Please enter a name:  quit\n"
     ]
    },
    {
     "data": {
      "text/plain": [
       "{'sf': 'fds', 'sdg': 'sdg'}"
      ]
     },
     "execution_count": 31,
     "metadata": {},
     "output_type": "execute_result"
    }
   ],
   "source": [
    "from IPython.display import clear_output\n",
    "\n",
    "def create_dict():\n",
    "    names = {}\n",
    "    while True:\n",
    "        name = input(\"Please enter a name: \")\n",
    "        if name == \"quit\":\n",
    "            break\n",
    "        else:\n",
    "            address = input(\"Please enter an address: \")\n",
    "            names[name] = address\n",
    "    return names\n",
    "create_dict()\n",
    "\n"
   ]
  },
  {
   "cell_type": "markdown",
   "metadata": {},
   "source": [
    "## Set <br>\n",
    "<p>A Set is an unordered collection data type that is iterable (loop), mutable, and has no duplicate elements.<br>Major advantage is that it is highly optimized in checking if something is in the set, as opposed to checking if something is in a list.</p>"
   ]
  },
  {
   "cell_type": "markdown",
   "metadata": {},
   "source": [
    "##### Declaring"
   ]
  },
  {
   "cell_type": "code",
   "execution_count": 4,
   "metadata": {},
   "outputs": [
    {
     "name": "stdout",
     "output_type": "stream",
     "text": [
      "<class 'set'>\n",
      "set()\n",
      "{1, 2, 3, 4}\n"
     ]
    }
   ],
   "source": [
    "# set() or {}\n",
    "# no order {3, 2, 1} outputs as {1, 2, 3}\n",
    "\n",
    "num ={1,2,3,4}\n",
    "empty = set()\n",
    "\n",
    "print(type(empty))\n",
    "print(empty)\n",
    "print(num)\n"
   ]
  },
  {
   "cell_type": "markdown",
   "metadata": {},
   "source": [
    "##### .add()"
   ]
  },
  {
   "cell_type": "code",
   "execution_count": 6,
   "metadata": {},
   "outputs": [
    {
     "name": "stdout",
     "output_type": "stream",
     "text": [
      "{1, 2, 3, 4, 6}\n",
      "{1, 2, 3, 4, 6, 89}\n"
     ]
    }
   ],
   "source": [
    "# set.add()\n",
    "\n",
    "num.add(6)\n",
    "\n",
    "print(num)\n",
    "\n",
    "num.add(89)\n",
    "\n",
    "print(num)"
   ]
  },
  {
   "cell_type": "markdown",
   "metadata": {},
   "source": [
    "##### .remove()"
   ]
  },
  {
   "cell_type": "code",
   "execution_count": 7,
   "metadata": {},
   "outputs": [
    {
     "name": "stdout",
     "output_type": "stream",
     "text": [
      "{1, 2, 3, 4, 6, 89}\n",
      "{1, 2, 4, 6, 89}\n"
     ]
    }
   ],
   "source": [
    "# removes by value\n",
    "# set.remove()\n",
    "# nums.remove(56)\n",
    "\n",
    "\n",
    "print(num)\n",
    "num.remove(3)\n",
    "print(num)\n"
   ]
  },
  {
   "cell_type": "markdown",
   "metadata": {},
   "source": [
    "##### .union() "
   ]
  },
  {
   "cell_type": "code",
   "execution_count": 8,
   "metadata": {},
   "outputs": [
    {
     "name": "stdout",
     "output_type": "stream",
     "text": [
      "{1, 2, 3, 4, 5, 6, 7, 8}\n"
     ]
    }
   ],
   "source": [
    "# Returns a union of two sets, can also use '|' or set.union(set)\n",
    "# joins all numbers, gets rid of duplicates\n",
    "\n",
    "\n",
    "set1 = {1,2,3,4,5}\n",
    "set2 = {4,5,6,7,8}\n",
    "\n",
    "union= set1.union(set2)\n",
    "\n",
    "print(union)"
   ]
  },
  {
   "cell_type": "markdown",
   "metadata": {},
   "source": [
    "##### .intersection()"
   ]
  },
  {
   "cell_type": "code",
   "execution_count": null,
   "metadata": {},
   "outputs": [],
   "source": [
    "# Returns an intersection of two sets, can also use '&'\n",
    "# only takes similar elements from both sets\n",
    "\n",
    "\n",
    "set1 = {1,2,3,4,5}\n",
    "set2 = {4,5,6,7,8}\n",
    "\n",
    "union= set1.intersection(set2)\n",
    "\n",
    "print(intersection)"
   ]
  },
  {
   "cell_type": "markdown",
   "metadata": {},
   "source": [
    "##### .difference()"
   ]
  },
  {
   "cell_type": "code",
   "execution_count": 12,
   "metadata": {},
   "outputs": [
    {
     "name": "stdout",
     "output_type": "stream",
     "text": [
      "{1, 2, 3}\n",
      "{8, 6, 7}\n"
     ]
    }
   ],
   "source": [
    "# Returns a set containing all the elements of invoking set that are not in the second set, can also use '-'\n",
    "# only takes values from the first set that are not in the second set\n",
    "# order matters\n",
    "\n",
    "\n",
    "set3=set1-set2\n",
    "print(set3)\n",
    "\n",
    "s4 = set2.difference(set1) #opposite(set2-set1)\n",
    "\n",
    "print(s4)"
   ]
  },
  {
   "cell_type": "markdown",
   "metadata": {},
   "source": [
    "##### .clear()"
   ]
  },
  {
   "cell_type": "code",
   "execution_count": 14,
   "metadata": {},
   "outputs": [
    {
     "name": "stdout",
     "output_type": "stream",
     "text": [
      "{8, 6, 7}\n"
     ]
    }
   ],
   "source": [
    "# Empties the whole set\n",
    "# set.clear()\n",
    "\n",
    "print(s4)\n",
    "s4.clear()\n",
    "\n"
   ]
  },
  {
   "cell_type": "markdown",
   "metadata": {},
   "source": [
    "##### Frozenset <br>\n",
    "<p>Frozen sets are immutable objects that only support methods and operators that produce a result without affecting the frozen set or sets to which they are applied.</p><br><b>Unique & Immutable</b>"
   ]
  },
  {
   "cell_type": "code",
   "execution_count": 3,
   "metadata": {},
   "outputs": [
    {
     "name": "stdout",
     "output_type": "stream",
     "text": [
      "frozenset({5, 3, 12, 4})\n"
     ]
    }
   ],
   "source": [
    "# frozenset([])\n",
    "set1 = (12,3,4,5)\n",
    "fs1 = frozenset(set1)\n",
    "print(fs1)\n",
    "\n",
    "\n"
   ]
  },
  {
   "cell_type": "markdown",
   "metadata": {},
   "source": [
    "## Modules"
   ]
  },
  {
   "cell_type": "markdown",
   "metadata": {},
   "source": [
    "##### Importing Entire Modules"
   ]
  },
  {
   "cell_type": "code",
   "execution_count": 22,
   "metadata": {},
   "outputs": [
    {
     "name": "stdout",
     "output_type": "stream",
     "text": [
      "6\n",
      "3.141592653589793\n"
     ]
    }
   ],
   "source": [
    "# import or from 'xxx' import *\n",
    "# import math\n",
    "import math\n",
    "\n",
    "print(math.ceil(5.5))\n",
    "print(math.pi)\n",
    "\n"
   ]
  },
  {
   "cell_type": "markdown",
   "metadata": {},
   "source": [
    "##### Importing Methods Only"
   ]
  },
  {
   "cell_type": "code",
   "execution_count": 29,
   "metadata": {},
   "outputs": [
    {
     "name": "stdout",
     "output_type": "stream",
     "text": [
      "6\n"
     ]
    }
   ],
   "source": [
    "# from 'xxx' import 'xxx'\n",
    "# from math import floor\n",
    "\n",
    "import math\n",
    "\n",
    "\n",
    "print(math.ceil(5.5))\n",
    "\n"
   ]
  },
  {
   "cell_type": "markdown",
   "metadata": {},
   "source": [
    "##### Using the 'as' Keyword"
   ]
  },
  {
   "cell_type": "code",
   "execution_count": 30,
   "metadata": {},
   "outputs": [],
   "source": [
    "# from 'xxx' import 'xxx' as 'xxx' or import 'xxx' as 'xxx'\n",
    "# from math import floor as f\n",
    "\n",
    "#you can create your own function and import it and execute it\n",
    "\n"
   ]
  },
  {
   "cell_type": "markdown",
   "metadata": {},
   "source": [
    "##### Creating a Module"
   ]
  },
  {
   "cell_type": "code",
   "execution_count": null,
   "metadata": {},
   "outputs": [],
   "source": []
  },
  {
   "cell_type": "markdown",
   "metadata": {},
   "source": [
    "# Exercises"
   ]
  },
  {
   "cell_type": "markdown",
   "metadata": {},
   "source": [
    "### 1) Build a Shopping Cart <br>\n",
    "<p><b>You can use either lists or dictionaries. The program should have the following capabilities:</b><br><br>\n",
    "1) Takes in input <br>\n",
    "2) Stores user input into a dictionary or list <br>\n",
    "3) The User can add or delete items <br>\n",
    "4) The User can see current shopping list <br>\n",
    "5) The program Loops until user 'quits' <br>\n",
    "6) Upon quiting the program, print out all items in the user's list <br>\n",
    "</p>"
   ]
  },
  {
   "cell_type": "code",
   "execution_count": null,
   "metadata": {},
   "outputs": [],
   "source": []
  },
  {
   "cell_type": "code",
   "execution_count": null,
   "metadata": {},
   "outputs": [
    {
     "name": "stdout",
     "output_type": "stream",
     "text": [
      "Welcome to Coding Temple shopping center!\n",
      "You can only buy 2 items each!!\n"
     ]
    },
    {
     "name": "stdout",
     "output_type": "stream",
     "text": [
      "Enter item to add to your shopping cart: apple\n",
      "Enter item to add to your shopping cart: orange\n",
      "Enter item to add to your shopping cart: eggs\n",
      "Enter item to add to your shopping cart: apple\n",
      "Enter item to add to your shopping cart: water\n",
      "Enter item to add to your shopping cart: delete\n",
      "What do you want to delete? eggs\n"
     ]
    }
   ],
   "source": [
    "#from IPython.display import clear_output\n",
    "\n",
    "# Ask the user four bits of input: Do you want to : Show/Add/Delete or Quit?\n",
    "\n",
    "#            del items[quit]\n",
    "\n",
    "\n",
    "                    \n",
    "                    \n",
    "print(\"Welcome to Coding Temple shopping center!\")\n",
    "print(\"Limited stock!! Buy 2 items each!!\")\n",
    "\n",
    "names = {}\n",
    "\n",
    "def shopping_dict():\n",
    "    while True:\n",
    "        \n",
    "        name = input(\"Enter item to add to your shopping cart:\")\n",
    "        \n",
    "        \n",
    "        if name == \"quit\":\n",
    "\n",
    "            break\n",
    "            \n",
    "        elif name == \"delete\":\n",
    "            remove = input('What do you want to delete?')\n",
    "            del names[remove]\n",
    "        \n",
    "        elif name == \"show\":\n",
    "            print(names)\n",
    "            \n",
    "        elif name in names:\n",
    "            names[name] = 2\n",
    "\n",
    "        else:\n",
    "            names[name] = 1\n",
    "    return names\n",
    " \n",
    "shopping_dict()\n",
    "\n",
    "print('Checkout following items from your shopping cart:')\n",
    "for name in names:\n",
    "    print(str(names[name]) + ' ' + name)"
   ]
  },
  {
   "cell_type": "code",
   "execution_count": null,
   "metadata": {},
   "outputs": [],
   "source": []
  },
  {
   "cell_type": "markdown",
   "metadata": {},
   "source": [
    "### 2) Create a Module in VS Code and Import It into jupyter notebook <br>\n",
    "<p><b>Module should have the following capabilities:</b><br><br>\n",
    "1) Has a function to calculate the square footage of a house <br>\n",
    "    <b>Reminder of Formula: Length X Width == Area<br>\n",
    "        <hr>\n",
    "2) Has a function to calculate the circumference of a circle <br><br>\n",
    "<b>Program in Jupyter Notebook should take in user input and use imported functions to calculate a circle's circumference or a houses square footage</b>\n",
    "</p>"
   ]
  },
  {
   "cell_type": "code",
   "execution_count": 15,
   "metadata": {},
   "outputs": [],
   "source": [
    "import size"
   ]
  },
  {
   "cell_type": "code",
   "execution_count": 12,
   "metadata": {},
   "outputs": [
    {
     "data": {
      "text/plain": [
       "3432"
      ]
     },
     "execution_count": 12,
     "metadata": {},
     "output_type": "execute_result"
    }
   ],
   "source": [
    "size.area(44,78)"
   ]
  },
  {
   "cell_type": "code",
   "execution_count": 13,
   "metadata": {},
   "outputs": [],
   "source": [
    "import circumference"
   ]
  },
  {
   "cell_type": "code",
   "execution_count": 15,
   "metadata": {},
   "outputs": [
    {
     "data": {
      "text/plain": [
       "2362.4776754995246"
      ]
     },
     "execution_count": 15,
     "metadata": {},
     "output_type": "execute_result"
    }
   ],
   "source": [
    "circumference.lengthofcircle(376)"
   ]
  },
  {
   "cell_type": "code",
   "execution_count": null,
   "metadata": {},
   "outputs": [],
   "source": []
  }
 ],
 "metadata": {
  "kernelspec": {
   "display_name": "Python 3 (ipykernel)",
   "language": "python",
   "name": "python3"
  },
  "language_info": {
   "codemirror_mode": {
    "name": "ipython",
    "version": 3
   },
   "file_extension": ".py",
   "mimetype": "text/x-python",
   "name": "python",
   "nbconvert_exporter": "python",
   "pygments_lexer": "ipython3",
   "version": "3.9.13"
  }
 },
 "nbformat": 4,
 "nbformat_minor": 4
}
